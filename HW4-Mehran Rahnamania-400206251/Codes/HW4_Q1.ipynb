{
  "cells": [
    {
      "cell_type": "markdown",
      "metadata": {
        "id": "gWqamyjte3I0"
      },
      "source": [
        "Mehran Rahnamania_400206251\n",
        "HW4_Q1"
      ]
    },
    {
      "cell_type": "code",
      "execution_count": 29,
      "metadata": {
        "id": "oS-TwSw9JSHq"
      },
      "outputs": [],
      "source": [
        "%matplotlib inline"
      ]
    },
    {
      "cell_type": "code",
      "execution_count": 8,
      "metadata": {
        "id": "7rmNgbJyQ4sf"
      },
      "outputs": [],
      "source": [
        "from __future__ import unicode_literals, print_function, division\n",
        "from io import open\n",
        "import unicodedata\n",
        "import string\n",
        "import re\n",
        "import random\n",
        "\n",
        "import torch\n",
        "import torch.nn as nn\n",
        "from torch import optim\n",
        "import torch.nn.functional as F\n",
        "\n",
        "device = torch.device(\"cuda\" if torch.cuda.is_available() else \"cpu\")"
      ]
    },
    {
      "cell_type": "code",
      "execution_count": 9,
      "metadata": {
        "id": "Yzhy6w9HqsEW"
      },
      "outputs": [],
      "source": [
        "#from google.colab import drive\n",
        "#drive.mount('/content/gdrive')"
      ]
    },
    {
      "cell_type": "code",
      "execution_count": 10,
      "metadata": {
        "id": "CI0pcoQ10CFl"
      },
      "outputs": [],
      "source": [
        "def unicodeToAscii(s):\n",
        "    return ''.join(\n",
        "        c for c in unicodedata.normalize('NFD', s)\n",
        "        if unicodedata.category(c) != 'Mn'\n",
        "    )\n",
        "\n",
        "# Lowercase, trim, and remove non-letter characters\n",
        "\n",
        "def normalizeString(s):\n",
        "    s = unicodeToAscii(s.lower().strip())\n",
        "    s = re.sub(r\"([.!?](؟)(را)(و)«ره«و»؟)\", r\" \\1\", s)\n",
        "    return s"
      ]
    },
    {
      "cell_type": "code",
      "execution_count": 11,
      "metadata": {
        "id": "UTGqp8GWKW9s"
      },
      "outputs": [],
      "source": [
        "def readLangs(lang1):\n",
        "    print(\"Reading lines...\")\n",
        "    # Read the file and split into lines\n",
        "    lines = open(lang1, 'r').read().lower().strip().split('\\n')\n",
        "    idx = round(len(lines)/2)\n",
        "    pairs = []\n",
        "    pa = []\n",
        "    unique = []\n",
        "    g = 0\n",
        "\n",
        "    for i in range(len(lines)):\n",
        "        if i % 2 == 0 and i < len(lines)-1:\n",
        "            if 4 < len(lines[i].split()) < 8:\n",
        "                pa = [normalizeString(s)for s in lines[i].split('\\t')]\n",
        "                pa.extend([normalizeString(s) for s in lines[i+1].split('\\t')])\n",
        "                pairs.append(pa)\n",
        "\n",
        "    pairs = pairs[1:]\n",
        "    unique =[]\n",
        "    \n",
        "    for j in  range(len(pairs)):\n",
        "        for l in pairs[j][0].split() + pairs[j][1].split():\n",
        "            if l not in unique:\n",
        "                unique.append(l)\n",
        "    \n",
        "    return  pairs, unique"
      ]
    },
    {
      "cell_type": "code",
      "execution_count": 12,
      "metadata": {
        "colab": {
          "base_uri": "https://localhost:8080/"
        },
        "id": "SeetCjZKKW1b",
        "outputId": "c5b04747-26cf-488e-f722-872709cfdc50"
      },
      "outputs": [
        {
          "output_type": "stream",
          "name": "stdout",
          "text": [
            "Reading lines...\n",
            "Read 41776 sentence pairs\n",
            "['زبر چون بهشتست و دوزخ به زیر', 'بد ان را که باشد به یزدان دلیر']\n"
          ]
        }
      ],
      "source": [
        "pairs, unique = readLangs(\"/content/ferdousi.txt\")\n",
        "print(\"Read %s sentence pairs\" % len(pairs))\n",
        "print(random.choice(pairs))"
      ]
    },
    {
      "cell_type": "code",
      "execution_count": 13,
      "metadata": {
        "id": "GHBC44KBy72q"
      },
      "outputs": [],
      "source": [
        "SOS_token = 0\n",
        "EOS_token = 1\n",
        "unique.sort()\n",
        "#unique = unique[6:]\n",
        "word2index = {}\n",
        "word2count = {}\n",
        "n_words = 2\n",
        "index2word = {0: \"SOS\", 1: \"EOS\"}\n",
        "\n",
        "for i, word in enumerate(unique):\n",
        "    index2word[i+2] = word\n",
        "    word2index[word] = i+2\n",
        "    n_words += 1"
      ]
    },
    {
      "cell_type": "markdown",
      "metadata": {
        "id": "PEWt34rRUCLz"
      },
      "source": [
        "# GRU"
      ]
    },
    {
      "cell_type": "code",
      "execution_count": 14,
      "metadata": {
        "id": "JYqje5GBeJrr"
      },
      "outputs": [],
      "source": [
        "class EncoderRNN(nn.Module):\n",
        "    def __init__(self, input_size, hidden_size):\n",
        "        super(EncoderRNN, self).__init__()\n",
        "        self.hidden_size = hidden_size\n",
        "\n",
        "        self.embedding = nn.Embedding(input_size, hidden_size)\n",
        "        self.gru = nn.GRU(hidden_size, hidden_size)\n",
        "\n",
        "    def forward(self, input, hidden):\n",
        "        embedded = self.embedding(input).view(1, 1, -1)\n",
        "        output = embedded\n",
        "        output, hidden = self.gru(output, hidden)\n",
        "        return output, hidden\n",
        "\n",
        "    def initHidden(self):\n",
        "        return torch.zeros(1, 1, self.hidden_size, device=device)"
      ]
    },
    {
      "cell_type": "code",
      "execution_count": 15,
      "metadata": {
        "id": "1xoLktZ6ei2U"
      },
      "outputs": [],
      "source": [
        "class AttnDecoderRNN(nn.Module):\n",
        "    def __init__(self, hidden_size, output_size, dropout_p=0.1, max_length=8):\n",
        "        super(AttnDecoderRNN, self).__init__()\n",
        "        self.hidden_size = hidden_size\n",
        "        self.output_size = output_size\n",
        "        self.dropout_p = dropout_p\n",
        "        self.max_length = max_length\n",
        "\n",
        "        self.embedding = nn.Embedding(self.output_size, self.hidden_size)\n",
        "        self.attn = nn.Linear(self.hidden_size * 2, self.max_length)\n",
        "        self.attn_combine = nn.Linear(self.hidden_size * 2, self.hidden_size)\n",
        "        self.dropout = nn.Dropout(self.dropout_p)\n",
        "        self.gru = nn.GRU(self.hidden_size, self.hidden_size)\n",
        "        self.out = nn.Linear(self.hidden_size, self.output_size)\n",
        "\n",
        "    def forward(self, input, hidden, encoder_outputs):\n",
        "        embedded = self.embedding(input).view(1, 1, -1)\n",
        "        embedded = self.dropout(embedded)\n",
        "\n",
        "        attn_weights = F.softmax(\n",
        "            self.attn(torch.cat((embedded[0], hidden[0]), 1)), dim=1)\n",
        "        attn_applied = torch.bmm(attn_weights.unsqueeze(0),\n",
        "                                 encoder_outputs.unsqueeze(0))\n",
        "\n",
        "        output = torch.cat((embedded[0], attn_applied[0]), 1)\n",
        "        output = self.attn_combine(output).unsqueeze(0)\n",
        "\n",
        "        output = F.relu(output)\n",
        "        output, hidden = self.gru(output, hidden)\n",
        "\n",
        "        output = F.log_softmax(self.out(output[0]), dim=1)\n",
        "        return output, hidden, attn_weights\n",
        "\n",
        "    def initHidden(self):\n",
        "        return torch.zeros(1, 1, self.hidden_size, device=device)"
      ]
    },
    {
      "cell_type": "code",
      "execution_count": 16,
      "metadata": {
        "id": "FBEiDpdie44Y"
      },
      "outputs": [],
      "source": [
        "def indexesFromSentence(word2index, sentence):\n",
        "    return [word2index[word] for word in sentence.split(' ')]\n",
        "\n",
        "\n",
        "def tensorFromSentence(word2index, sentence):\n",
        "    indexes = indexesFromSentence(word2index, sentence)\n",
        "    indexes.append(EOS_token)\n",
        "    return torch.tensor(indexes, dtype=torch.long, device=device).view(-1, 1)\n",
        "\n",
        "\n",
        "def tensorsFromPair(pair):\n",
        "    input_tensor = tensorFromSentence(word2index, pair[0])\n",
        "    target_tensor = tensorFromSentence(word2index, pair[1])\n",
        "    return (input_tensor, target_tensor)"
      ]
    },
    {
      "cell_type": "code",
      "execution_count": 17,
      "metadata": {
        "id": "Ko2sh4lfe_bV"
      },
      "outputs": [],
      "source": [
        "teacher_forcing_ratio = 0.5\n",
        "\n",
        "\n",
        "def train(input_tensor, target_tensor, encoder, decoder, encoder_optimizer, decoder_optimizer, criterion, max_length=8):\n",
        "    encoder_hidden = encoder.initHidden()\n",
        "\n",
        "    encoder_optimizer.zero_grad()\n",
        "    decoder_optimizer.zero_grad()\n",
        "\n",
        "    input_length = input_tensor.size(0)\n",
        "    target_length = target_tensor.size(0)\n",
        "\n",
        "    encoder_outputs = torch.zeros(max_length, encoder.hidden_size, device=device)\n",
        "\n",
        "    loss = 0\n",
        "\n",
        "    for ei in range(input_length):\n",
        "        encoder_output, encoder_hidden = encoder(\n",
        "            input_tensor[ei], encoder_hidden)\n",
        "        encoder_outputs[ei] = encoder_output[0, 0]\n",
        "\n",
        "    decoder_input = torch.tensor([[SOS_token]], device=device)\n",
        "\n",
        "    decoder_hidden = encoder_hidden\n",
        "\n",
        "    use_teacher_forcing = True if random.random() < teacher_forcing_ratio else False\n",
        "\n",
        "    if use_teacher_forcing:\n",
        "        # Teacher forcing: Feed the target as the next input\n",
        "        for di in range(target_length):\n",
        "            decoder_output, decoder_hidden, decoder_attention = decoder(\n",
        "                decoder_input, decoder_hidden, encoder_outputs)\n",
        "            loss += criterion(decoder_output, target_tensor[di])\n",
        "            decoder_input = target_tensor[di]  # Teacher forcing\n",
        "\n",
        "    else:\n",
        "        # Without teacher forcing: use its own predictions as the next input\n",
        "        for di in range(target_length):\n",
        "            decoder_output, decoder_hidden, decoder_attention = decoder(\n",
        "                decoder_input, decoder_hidden, encoder_outputs)\n",
        "            topv, topi = decoder_output.topk(1)\n",
        "            decoder_input = topi.squeeze().detach()  # detach from history as input\n",
        "\n",
        "            loss += criterion(decoder_output, target_tensor[di])\n",
        "            if decoder_input.item() == EOS_token:\n",
        "                break\n",
        "\n",
        "    loss.backward()\n",
        "\n",
        "    encoder_optimizer.step()\n",
        "    decoder_optimizer.step()\n",
        "\n",
        "    \n",
        "\n",
        "    return loss.item() / target_length"
      ]
    },
    {
      "cell_type": "code",
      "execution_count": 18,
      "metadata": {
        "id": "Y7sSEm8vfI5U"
      },
      "outputs": [],
      "source": [
        "import time\n",
        "import math\n",
        "\n",
        "\n",
        "def asMinutes(s):\n",
        "    m = math.floor(s / 60)\n",
        "    s -= m * 60\n",
        "    return '%dm %ds' % (m, s)\n",
        "\n",
        "\n",
        "def timeSince(since, percent):\n",
        "    now = time.time()\n",
        "    s = now - since\n",
        "    es = s / (percent)\n",
        "    rs = es - s\n",
        "    return '%s (- %s)' % (asMinutes(s), asMinutes(rs))"
      ]
    },
    {
      "cell_type": "code",
      "execution_count": 19,
      "metadata": {
        "id": "9I79gwuMfTCJ"
      },
      "outputs": [],
      "source": [
        "def trainIters(encoder, decoder, n_iters, print_every=1000, plot_every=100, learning_rate=0.01):\n",
        "    start = time.time()\n",
        "    plot_losses = []\n",
        "    print_loss_total = 0  # Reset every print_every\n",
        "    plot_loss_total = 0  # Reset every plot_every\n",
        "\n",
        "\n",
        "    total_steps = n_iter\n",
        "\n",
        "    encoder_optimizer = optim.SGD(encoder.parameters(), lr=learning_rate)\n",
        "    decoder_optimizer = optim.SGD(decoder.parameters(), lr=learning_rate)\n",
        "\n",
        "    training_pairs = [tensorsFromPair(random.choice(pairs))\n",
        "                      for i in range(n_iters)]\n",
        "    criterion = nn.CrossEntropyLoss()\n",
        "\n",
        "    for iter in range(1, n_iters + 1):\n",
        "        training_pair = training_pairs[iter - 1]\n",
        "        input_tensor = training_pair[0]\n",
        "        target_tensor = training_pair[1]\n",
        "\n",
        "        loss = train(input_tensor, target_tensor, encoder,\n",
        "                     decoder, encoder_optimizer, decoder_optimizer, criterion)\n",
        "        print_loss_total += loss\n",
        "        plot_loss_total += loss\n",
        "\n",
        "        if iter % print_every == 0:\n",
        "            print_loss_avg = print_loss_total / print_every\n",
        "            print_loss_total = 0\n",
        "            print('%s (%d %d%%) %.4f' % (timeSince(start, iter / n_iters),\n",
        "                                         iter, iter / n_iters * 100, print_loss_avg))\n",
        "\n",
        "        if iter % plot_every == 0:\n",
        "            plot_loss_avg = plot_loss_total / plot_every\n",
        "            plot_losses.append(plot_loss_avg)\n",
        "            plot_loss_total = 0\n",
        "\n",
        "\n",
        "    showPlot(plot_losses)"
      ]
    },
    {
      "cell_type": "code",
      "execution_count": 28,
      "metadata": {
        "id": "oYV4aoJTfXpd"
      },
      "outputs": [],
      "source": [
        "import matplotlib.pyplot as plt\n",
        "plt.switch_backend('agg')\n",
        "import matplotlib.ticker as ticker\n",
        "import numpy as np\n",
        "\n",
        "\n",
        "def showPlot(points):\n",
        "    plt.figure()\n",
        "    fig, ax = plt.subplots()\n",
        "    # this locator puts ticks at regular intervals\n",
        "    loc = ticker.MultipleLocator(base=0.2)\n",
        "    ax.yaxis.set_major_locator(loc)\n",
        "    plt.plot(points)\n",
        "    plt.show()"
      ]
    },
    {
      "cell_type": "code",
      "execution_count": 21,
      "metadata": {
        "id": "wLgwFKlafZxL"
      },
      "outputs": [],
      "source": [
        "def evaluate(encoder, decoder, sentence, max_length=8):\n",
        "    with torch.no_grad():\n",
        "        input_tensor = tensorFromSentence(word2index, sentence)\n",
        "        input_length = input_tensor.size()[0]\n",
        "        encoder_hidden = encoder.initHidden()\n",
        "\n",
        "        encoder_outputs = torch.zeros(max_length, encoder.hidden_size, device=device)\n",
        "\n",
        "        for ei in range(input_length):\n",
        "            encoder_output, encoder_hidden = encoder(input_tensor[ei],\n",
        "                                                     encoder_hidden)\n",
        "            encoder_outputs[ei] += encoder_output[0, 0]\n",
        "\n",
        "        decoder_input = torch.tensor([[SOS_token]], device=device)  # SOS\n",
        "\n",
        "        decoder_hidden = encoder_hidden\n",
        "\n",
        "        decoded_words = []\n",
        "        decoder_attentions = torch.zeros(max_length, max_length)\n",
        "\n",
        "        for di in range(max_length):\n",
        "            decoder_output, decoder_hidden, decoder_attention = decoder(\n",
        "                decoder_input, decoder_hidden, encoder_outputs)\n",
        "            decoder_attentions[di] = decoder_attention.data\n",
        "            topv, topi = decoder_output.data.topk(1)\n",
        "            if topi.item() == EOS_token:\n",
        "                decoded_words.append('<EOS>')\n",
        "                break\n",
        "            else:\n",
        "                decoded_words.append(index2word[topi.item()])\n",
        "\n",
        "            decoder_input = topi.squeeze().detach()\n",
        "\n",
        "        return decoded_words, decoder_attentions[:di + 1]"
      ]
    },
    {
      "cell_type": "code",
      "execution_count": 22,
      "metadata": {
        "id": "ethuB0iVfcCf"
      },
      "outputs": [],
      "source": [
        "def evaluateRandomly(encoder, decoder, n=10 ):\n",
        "    for i in range(n):\n",
        "        pair = random.choice(pairs)\n",
        "        print( pair[1],'   ', pair[0])\n",
        "        output_words, attentions = evaluate(encoder, decoder, pair[0])\n",
        "        output_sentence = ' '.join(output_words)\n",
        "        print(output_sentence)\n",
        "        print('')"
      ]
    },
    {
      "cell_type": "code",
      "execution_count": 35,
      "metadata": {
        "id": "c9_zb-cPbHoE"
      },
      "outputs": [],
      "source": [
        "n_iter = 20000\n",
        "print_every = 1000\n",
        "plot_every=100\n",
        "learning_rate=0.0001"
      ]
    },
    {
      "cell_type": "code",
      "execution_count": 24,
      "metadata": {
        "id": "o_I1xicIVzyk"
      },
      "outputs": [],
      "source": [
        "hidden_size = 300\n",
        "\n",
        "encoder1 = EncoderRNN(n_words, hidden_size).to(device)\n",
        "attn_decoder1 = AttnDecoderRNN(hidden_size, n_words, dropout_p=0.1).to(device)"
      ]
    },
    {
      "cell_type": "code",
      "execution_count": 38,
      "metadata": {
        "colab": {
          "base_uri": "https://localhost:8080/",
          "height": 630
        },
        "id": "CiN9JPUDfeuu",
        "outputId": "a051f513-2104-407a-9b5d-74664eba5fb0"
      },
      "outputs": [
        {
          "output_type": "stream",
          "name": "stdout",
          "text": [
            "0m 17s (- 5m 40s) (1000 5%) 4.1303\n",
            "0m 34s (- 5m 6s) (2000 10%) 4.1388\n",
            "0m 50s (- 4m 46s) (3000 15%) 4.2055\n",
            "1m 7s (- 4m 28s) (4000 20%) 4.1350\n",
            "1m 23s (- 4m 10s) (5000 25%) 4.1862\n",
            "1m 40s (- 3m 53s) (6000 30%) 4.1369\n",
            "1m 56s (- 3m 36s) (7000 35%) 4.1493\n",
            "2m 12s (- 3m 18s) (8000 40%) 4.1927\n",
            "2m 29s (- 3m 2s) (9000 45%) 4.1309\n",
            "2m 45s (- 2m 45s) (10000 50%) 4.1754\n",
            "3m 1s (- 2m 28s) (11000 55%) 4.1711\n",
            "3m 17s (- 2m 11s) (12000 60%) 4.1508\n",
            "3m 34s (- 1m 55s) (13000 65%) 4.1899\n",
            "3m 50s (- 1m 38s) (14000 70%) 4.1301\n",
            "4m 6s (- 1m 22s) (15000 75%) 4.1513\n",
            "4m 22s (- 1m 5s) (16000 80%) 4.1756\n",
            "4m 39s (- 0m 49s) (17000 85%) 4.1078\n",
            "4m 55s (- 0m 32s) (18000 90%) 4.1822\n",
            "5m 11s (- 0m 16s) (19000 95%) 4.0730\n",
            "5m 28s (- 0m 0s) (20000 100%) 4.1115\n"
          ]
        },
        {
          "output_type": "display_data",
          "data": {
            "text/plain": [
              "<Figure size 432x288 with 0 Axes>"
            ]
          },
          "metadata": {}
        },
        {
          "output_type": "display_data",
          "data": {
            "text/plain": [
              "<Figure size 432x288 with 1 Axes>"
            ],
            "image/png": "[encoded data removed]"
          },
          "metadata": {
            "needs_background": "light"
          }
        }
      ],
      "source": [
        "trainIters(encoder1, attn_decoder1, n_iter, print_every=print_every, plot_every=plot_every, learning_rate=learning_rate)"
      ]
    },
    {
      "cell_type": "code",
      "execution_count": 39,
      "metadata": {
        "colab": {
          "base_uri": "https://localhost:8080/"
        },
        "id": "pJWtLDaZmCe2",
        "outputId": "d2d681be-1ead-45a2-ae65-b5a939ee30f9"
      },
      "outputs": [
        {
          "output_type": "stream",
          "name": "stdout",
          "text": [
            "سوی سیستان روی بنهاد و تفت     شماساس کز پیش جیحون برفت\n",
            "بیامد سپهدار خرامید تفت تفت <EOS>\n",
            "\n",
            "بسی سر به خاک اندر اگنده شد     بسی گنج و گوهر پراگنده شد\n",
            "ز اگنده و ز اگنده کرد <EOS>\n",
            "\n",
            "همی باش تا پیش روی سپاه     یلان سینه را گفت برقلبگاه\n",
            "که تو تو را <EOS>\n",
            "\n",
            "بترس از گزند و بد روزگار     به گیتی همه تخم زفتی مکار\n",
            "که در در در در <EOS>\n",
            "\n",
            "بگردم ببینم جهان را یکی     برانم که گرد زمین اندکی\n",
            "به و و و <EOS>\n",
            "\n",
            "ز ترکش براورد تیر خدنگ     چو نزدیک ایرانیان شد بجنگ\n",
            "پیاده از شد درنگ <EOS>\n",
            "\n",
            "نگه کرد وزان سان سخنها شنود     چو زروان به گفتار مرد جهود\n",
            "یکی را را را <EOS>\n",
            "\n",
            "همه نامداران جوشن وران     ازان پس درامد سپاهی گران\n",
            "همه مازندران مازندران مازندران سران <EOS>\n",
            "\n",
            "بدان سان که خونریز بودش دو چنگ     دو دستش بزنار بستم چو سنگ\n",
            "دو دو دو دو دو دو دو دو\n",
            "\n",
            "ز بیم وز غم هر زمان بگسلند     شکسته سلیح و گسسته دلند\n",
            "که و و و <EOS>\n",
            "\n"
          ]
        }
      ],
      "source": [
        "evaluateRandomly(encoder1, attn_decoder1)"
      ]
    },
    {
      "cell_type": "markdown",
      "metadata": {
        "id": "EcOD5LrTT5bo"
      },
      "source": [
        "# LSTM"
      ]
    },
    {
      "cell_type": "code",
      "execution_count": null,
      "metadata": {
        "colab": {
          "background_save": true
        },
        "id": "aEI2_J-MT9oI"
      },
      "outputs": [],
      "source": [
        "class EncoderRNN2(nn.Module):\n",
        "    def __init__(self, input_size, hidden_size):\n",
        "        super(EncoderRNN2, self).__init__()\n",
        "        self.hidden_size = hidden_size\n",
        "\n",
        "        self.embedding = nn.Embedding(input_size, hidden_size)\n",
        "        self.lstm = nn.LSTM(hidden_size, hidden_size, hidden_size)\n",
        "\n",
        "    def forward(self, input, hidden, c_n):\n",
        "        embedded = self.embedding(input)\n",
        "        output = embedded\n",
        "        output, hidden, c_n = self.lstm(output, hidden, c_n)\n",
        "        return output, hidden, c_n\n",
        "\n",
        "    def initHidden(self):\n",
        "        return (torch.zeros(1, 1, self.hidden_size, device=device), torch.zeros(1, 1, self.hidden_size, device=device))"
      ]
    },
    {
      "cell_type": "code",
      "execution_count": null,
      "metadata": {
        "colab": {
          "background_save": true
        },
        "id": "UiMqVA5yUPsE"
      },
      "outputs": [],
      "source": [
        "class AttnDecoderRNN2(nn.Module):\n",
        "    def __init__(self, hidden_size, output_size, dropout_p=0.1, max_length=8):\n",
        "        super(AttnDecoderRNN2, self).__init__()\n",
        "        self.hidden_size = hidden_size\n",
        "        self.output_size = output_size\n",
        "        self.dropout_p = dropout_p\n",
        "        self.max_length = max_length\n",
        "\n",
        "        self.embedding = nn.Embedding(self.output_size, self.hidden_size)\n",
        "        self.attn = nn.Linear(self.hidden_size * 2, self.max_length)\n",
        "        self.attn_combine = nn.Linear(self.hidden_size * 2, self.hidden_size)\n",
        "        self.dropout = nn.Dropout(self.dropout_p)\n",
        "        self.lstm = nn.LSTM(self.hidden_size, self.hidden_size)\n",
        "        self.out = nn.Linear(self.hidden_size, self.output_size)\n",
        "\n",
        "    def forward(self, input, hidden, encoder_outputs):\n",
        "        embedded = self.embedding(input).view(1, 1, -1)\n",
        "        embedded = self.dropout(embedded)\n",
        "\n",
        "        attn_weights = F.softmax(\n",
        "            self.attn(torch.cat((embedded[0], hidden[0]), 1)), dim=1)\n",
        "        attn_applied = torch.bmm(attn_weights.unsqueeze(0),\n",
        "                                 encoder_outputs.unsqueeze(0))\n",
        "\n",
        "        output = torch.cat((embedded[0], attn_applied[0]), 1)\n",
        "        output = self.attn_combine(output).unsqueeze(0)\n",
        "\n",
        "        output = F.relu(output)\n",
        "        output, hidden = self.lstm(output, hidden)\n",
        "\n",
        "        output = F.log_softmax(self.out(output[0]), dim=1)\n",
        "        return output, hidden, attn_weights\n",
        "\n",
        "    def initHidden(self):\n",
        "        return torch.zeros(1, 1, self.hidden_size, device=device)"
      ]
    },
    {
      "cell_type": "code",
      "execution_count": null,
      "metadata": {
        "colab": {
          "background_save": true
        },
        "id": "WZ3DpyBjUiOW"
      },
      "outputs": [],
      "source": [
        "encoder2 = EncoderRNN2(n_words, hidden_size).to(device)\n",
        "attn_decoder2 = AttnDecoderRNN2(hidden_size, n_words, dropout_p=0.1).to(device)\n",
        "\n",
        "loss = trainIters(encoder2, attn_decoder2, n_iter, print_every=print_every, plot_every=plot_every, learning_rate=learning_rate)"
      ]
    },
    {
      "cell_type": "code",
      "execution_count": null,
      "metadata": {
        "id": "iLZFHsAeVJCL"
      },
      "outputs": [],
      "source": [
        "evaluateRandomly(encoder2, attn_decoder2)"
      ]
    }
  ],
  "metadata": {
    "accelerator": "GPU",
    "colab": {
      "provenance": []
    },
    "gpuClass": "standard",
    "kernelspec": {
      "display_name": "Python 3",
      "name": "python3"
    },
    "language_info": {
      "name": "python"
    }
  },
  "nbformat": 4,
  "nbformat_minor": 0
}